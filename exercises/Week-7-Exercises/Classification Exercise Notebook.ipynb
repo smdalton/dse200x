{
 "cells": [
  {
   "cell_type": "markdown",
   "metadata": {
    "nbgrader": {
     "grade": false,
     "grade_id": "1",
     "locked": true,
     "schema_version": 1,
     "solution": false
    }
   },
   "source": [
    "<p style=\"font-family: Arial; font-size:3.75vw;color:purple; font-style:bold\"><br>\n",
    "Classification Exercise Notebook\n",
    "</p><br>"
   ]
  },
  {
   "cell_type": "markdown",
   "metadata": {
    "nbgrader": {
     "grade": false,
     "grade_id": "c2",
     "locked": true,
     "schema_version": 1,
     "solution": false
    }
   },
   "source": [
    "# Exercise Notebook Instructions\n",
    "\n",
    "### 1. Important: Only modify the cells which instruct you to modify them - leave \"do not modify\" cells alone.  \n",
    "\n",
    "The code which tests your responses assumes you have run the startup/read-only code exactly.\n",
    "\n",
    "### 2. Work through the notebook in order.\n",
    "\n",
    "Some of the steps depend on previous, so you'll want to move through the notebook in order.\n",
    "\n",
    "### 3. It is okay to use numpy libraries.\n",
    "\n",
    "You may find some of these questions are fairly straightforward to answer using built-in numpy functions.  That's totally okay - part of the point of these exercises is to familiarize you with the commonly used numpy functions.\n",
    "\n",
    "### 4. Seek help if stuck\n",
    "\n",
    "If you get stuck, don't worry!  You can either review the videos/notebooks from this week, ask in the course forums, or look to the solutions for the correct answer.  BUT, be careful about looking to the solutions too quickly.  Struggling to get the right answer is an important part of the learning process."
   ]
  },
  {
   "cell_type": "code",
   "execution_count": 58,
   "metadata": {
    "nbgrader": {
     "grade": false,
     "grade_id": "c3",
     "locked": true,
     "schema_version": 1,
     "solution": false
    }
   },
   "outputs": [],
   "source": [
    "# DO NOT MODIFY\n",
    "\n",
    "# import appropriate libraries\n",
    "import pandas as pd\n",
    "import numpy as np\n",
    "from sklearn.model_selection import train_test_split\n",
    "from sklearn.metrics import accuracy_score\n",
    "from sklearn.tree import DecisionTreeClassifier\n",
    "from sklearn.linear_model import LinearRegression\n",
    "from sklearn.tree import DecisionTreeRegressor\n",
    "from sklearn.metrics import mean_squared_error\n",
    "from math import sqrt\n",
    "weather_path = '../../../datasets/weather/daily_weather.csv' "
   ]
  },
  {
   "cell_type": "code",
   "execution_count": 35,
   "metadata": {
    "nbgrader": {
     "grade": false,
     "grade_id": "c2c",
     "locked": true,
     "schema_version": 1,
     "solution": false
    }
   },
   "outputs": [],
   "source": [
    "# DO NOT MODIFY\n",
    "\n",
    "# we will use the daily weather dataset of this exercise.\n",
    "\n",
    "def get_data():\n",
    "    return pd.read_csv(weather_path)\n",
    "\n",
    "df = get_data()"
   ]
  },
  {
   "cell_type": "markdown",
   "metadata": {
    "nbgrader": {
     "grade": false,
     "grade_id": "c445c",
     "locked": true,
     "schema_version": 1,
     "solution": false
    }
   },
   "source": [
    "<p style=\"font-family: Arial; font-size:2.75vw;color:purple; font-style:bold\"><br>\n",
    "\n",
    "Exercise 1: Detect if NULLs Exist in the Data<br><br></p>\n",
    "\n",
    "\n",
    "In the cell below, modify the function to RETURN True if there exists a NULL value in data given as input, otherwise False"
   ]
  },
  {
   "cell_type": "code",
   "execution_count": 36,
   "metadata": {
    "nbgrader": {
     "grade": false,
     "grade_id": "c555",
     "locked": false,
     "schema_version": 1,
     "solution": true
    }
   },
   "outputs": [],
   "source": [
    "# modify this cell\n",
    "\n",
    "def detect_nulls(matx):\n",
    "    ### BEGIN SOLUTION\n",
    "    return matx.isnull().any().any()\n",
    "    ### END SOLUTION"
   ]
  },
  {
   "cell_type": "code",
   "execution_count": 37,
   "metadata": {
    "nbgrader": {
     "grade": true,
     "grade_id": "ex15",
     "locked": true,
     "points": 1,
     "schema_version": 1,
     "solution": false
    }
   },
   "outputs": [],
   "source": [
    "# DO NOT MODIFY\n",
    "ans = True\n",
    "\n",
    "try: assert np.alltrue(detect_nulls(df) == ans)\n",
    "except AssertionError as e: print(\"Try again, your output did not match the expected answer above\")"
   ]
  },
  {
   "cell_type": "markdown",
   "metadata": {
    "nbgrader": {
     "grade": false,
     "grade_id": "cc445",
     "locked": true,
     "schema_version": 1,
     "solution": false
    }
   },
   "source": [
    "<p style=\"font-family: Arial; font-size:2.75vw;color:purple; font-style:bold\"><br>\n",
    "\n",
    "Exercise 2: Data Cleaning<br><br></p>\n",
    "\n",
    "\n",
    "In the cell below, modify the function to remove every row that has atleast one NULL,\n",
    "and RETURN a new data frame."
   ]
  },
  {
   "cell_type": "code",
   "execution_count": 38,
   "metadata": {
    "nbgrader": {
     "grade": false,
     "grade_id": "5551",
     "locked": false,
     "schema_version": 1,
     "solution": true
    }
   },
   "outputs": [],
   "source": [
    "# modify this cell\n",
    "\n",
    "def clean_data(matx):\n",
    "    ### BEGIN SOLUTION\n",
    "    matx = matx.dropna() # creates a slice of the data\n",
    "    return matx\n",
    "    ### END SOLUTION"
   ]
  },
  {
   "cell_type": "code",
   "execution_count": 39,
   "metadata": {
    "nbgrader": {
     "grade": true,
     "grade_id": "ex151",
     "locked": true,
     "points": 1,
     "schema_version": 1,
     "solution": false
    }
   },
   "outputs": [],
   "source": [
    "# DO NOT MODIFY\n",
    "\n",
    "try: \n",
    "    df2=clean_data(df)\n",
    "    assert np.alltrue(df2.shape[0] == 1064)\n",
    "except AssertionError as e: print(\"Try again\")"
   ]
  },
  {
   "cell_type": "code",
   "execution_count": 40,
   "metadata": {},
   "outputs": [
    {
     "data": {
      "text/html": [
       "<div>\n",
       "<style scoped>\n",
       "    .dataframe tbody tr th:only-of-type {\n",
       "        vertical-align: middle;\n",
       "    }\n",
       "\n",
       "    .dataframe tbody tr th {\n",
       "        vertical-align: top;\n",
       "    }\n",
       "\n",
       "    .dataframe thead th {\n",
       "        text-align: right;\n",
       "    }\n",
       "</style>\n",
       "<table border=\"1\" class=\"dataframe\">\n",
       "  <thead>\n",
       "    <tr style=\"text-align: right;\">\n",
       "      <th></th>\n",
       "      <th>number</th>\n",
       "      <th>air_pressure_9am</th>\n",
       "      <th>air_temp_9am</th>\n",
       "      <th>avg_wind_direction_9am</th>\n",
       "      <th>avg_wind_speed_9am</th>\n",
       "      <th>max_wind_direction_9am</th>\n",
       "      <th>max_wind_speed_9am</th>\n",
       "      <th>rain_accumulation_9am</th>\n",
       "      <th>rain_duration_9am</th>\n",
       "      <th>relative_humidity_9am</th>\n",
       "      <th>relative_humidity_3pm</th>\n",
       "    </tr>\n",
       "  </thead>\n",
       "  <tbody>\n",
       "    <tr>\n",
       "      <th>count</th>\n",
       "      <td>1064.000000</td>\n",
       "      <td>1064.000000</td>\n",
       "      <td>1064.000000</td>\n",
       "      <td>1064.000000</td>\n",
       "      <td>1064.000000</td>\n",
       "      <td>1064.000000</td>\n",
       "      <td>1064.000000</td>\n",
       "      <td>1064.000000</td>\n",
       "      <td>1064.000000</td>\n",
       "      <td>1064.000000</td>\n",
       "      <td>1064.000000</td>\n",
       "    </tr>\n",
       "    <tr>\n",
       "      <th>mean</th>\n",
       "      <td>545.001880</td>\n",
       "      <td>918.903180</td>\n",
       "      <td>65.022609</td>\n",
       "      <td>142.306756</td>\n",
       "      <td>5.485793</td>\n",
       "      <td>148.480424</td>\n",
       "      <td>6.999714</td>\n",
       "      <td>0.182023</td>\n",
       "      <td>266.393697</td>\n",
       "      <td>34.077440</td>\n",
       "      <td>35.148381</td>\n",
       "    </tr>\n",
       "    <tr>\n",
       "      <th>std</th>\n",
       "      <td>316.796111</td>\n",
       "      <td>3.179040</td>\n",
       "      <td>11.168033</td>\n",
       "      <td>69.149472</td>\n",
       "      <td>4.534427</td>\n",
       "      <td>67.154911</td>\n",
       "      <td>5.590790</td>\n",
       "      <td>1.534493</td>\n",
       "      <td>1503.092216</td>\n",
       "      <td>25.356668</td>\n",
       "      <td>22.365475</td>\n",
       "    </tr>\n",
       "    <tr>\n",
       "      <th>min</th>\n",
       "      <td>0.000000</td>\n",
       "      <td>907.990000</td>\n",
       "      <td>36.752000</td>\n",
       "      <td>15.500000</td>\n",
       "      <td>0.693451</td>\n",
       "      <td>28.900000</td>\n",
       "      <td>1.185578</td>\n",
       "      <td>0.000000</td>\n",
       "      <td>0.000000</td>\n",
       "      <td>6.090000</td>\n",
       "      <td>5.300000</td>\n",
       "    </tr>\n",
       "    <tr>\n",
       "      <th>25%</th>\n",
       "      <td>269.750000</td>\n",
       "      <td>916.595376</td>\n",
       "      <td>57.398000</td>\n",
       "      <td>65.979244</td>\n",
       "      <td>2.245529</td>\n",
       "      <td>76.335351</td>\n",
       "      <td>3.064608</td>\n",
       "      <td>0.000000</td>\n",
       "      <td>0.000000</td>\n",
       "      <td>15.093365</td>\n",
       "      <td>17.360468</td>\n",
       "    </tr>\n",
       "    <tr>\n",
       "      <th>50%</th>\n",
       "      <td>543.500000</td>\n",
       "      <td>918.942281</td>\n",
       "      <td>65.778479</td>\n",
       "      <td>165.937461</td>\n",
       "      <td>3.869906</td>\n",
       "      <td>176.350000</td>\n",
       "      <td>4.943637</td>\n",
       "      <td>0.000000</td>\n",
       "      <td>0.000000</td>\n",
       "      <td>23.135000</td>\n",
       "      <td>24.371286</td>\n",
       "    </tr>\n",
       "    <tr>\n",
       "      <th>75%</th>\n",
       "      <td>819.250000</td>\n",
       "      <td>921.169054</td>\n",
       "      <td>73.530872</td>\n",
       "      <td>191.100000</td>\n",
       "      <td>7.264463</td>\n",
       "      <td>201.125000</td>\n",
       "      <td>8.747888</td>\n",
       "      <td>0.000000</td>\n",
       "      <td>0.000000</td>\n",
       "      <td>44.660000</td>\n",
       "      <td>51.922500</td>\n",
       "    </tr>\n",
       "    <tr>\n",
       "      <th>max</th>\n",
       "      <td>1094.000000</td>\n",
       "      <td>929.320000</td>\n",
       "      <td>98.906000</td>\n",
       "      <td>343.400000</td>\n",
       "      <td>23.554978</td>\n",
       "      <td>312.200000</td>\n",
       "      <td>29.840780</td>\n",
       "      <td>24.020000</td>\n",
       "      <td>17704.000000</td>\n",
       "      <td>92.620000</td>\n",
       "      <td>92.250000</td>\n",
       "    </tr>\n",
       "  </tbody>\n",
       "</table>\n",
       "</div>"
      ],
      "text/plain": [
       "            number  air_pressure_9am  air_temp_9am  avg_wind_direction_9am  \\\n",
       "count  1064.000000       1064.000000   1064.000000             1064.000000   \n",
       "mean    545.001880        918.903180     65.022609              142.306756   \n",
       "std     316.796111          3.179040     11.168033               69.149472   \n",
       "min       0.000000        907.990000     36.752000               15.500000   \n",
       "25%     269.750000        916.595376     57.398000               65.979244   \n",
       "50%     543.500000        918.942281     65.778479              165.937461   \n",
       "75%     819.250000        921.169054     73.530872              191.100000   \n",
       "max    1094.000000        929.320000     98.906000              343.400000   \n",
       "\n",
       "       avg_wind_speed_9am  max_wind_direction_9am  max_wind_speed_9am  \\\n",
       "count         1064.000000             1064.000000         1064.000000   \n",
       "mean             5.485793              148.480424            6.999714   \n",
       "std              4.534427               67.154911            5.590790   \n",
       "min              0.693451               28.900000            1.185578   \n",
       "25%              2.245529               76.335351            3.064608   \n",
       "50%              3.869906              176.350000            4.943637   \n",
       "75%              7.264463              201.125000            8.747888   \n",
       "max             23.554978              312.200000           29.840780   \n",
       "\n",
       "       rain_accumulation_9am  rain_duration_9am  relative_humidity_9am  \\\n",
       "count            1064.000000        1064.000000            1064.000000   \n",
       "mean                0.182023         266.393697              34.077440   \n",
       "std                 1.534493        1503.092216              25.356668   \n",
       "min                 0.000000           0.000000               6.090000   \n",
       "25%                 0.000000           0.000000              15.093365   \n",
       "50%                 0.000000           0.000000              23.135000   \n",
       "75%                 0.000000           0.000000              44.660000   \n",
       "max                24.020000       17704.000000              92.620000   \n",
       "\n",
       "       relative_humidity_3pm  \n",
       "count            1064.000000  \n",
       "mean               35.148381  \n",
       "std                22.365475  \n",
       "min                 5.300000  \n",
       "25%                17.360468  \n",
       "50%                24.371286  \n",
       "75%                51.922500  \n",
       "max                92.250000  "
      ]
     },
     "execution_count": 40,
     "metadata": {},
     "output_type": "execute_result"
    }
   ],
   "source": [
    "df2.describe()"
   ]
  },
  {
   "cell_type": "markdown",
   "metadata": {
    "nbgrader": {
     "grade": false,
     "grade_id": "cccc445",
     "locked": true,
     "schema_version": 1,
     "solution": false
    }
   },
   "source": [
    "<p style=\"font-family: Arial; font-size:2.75vw;color:purple; font-style:bold\"><br>\n",
    "\n",
    "Exercise 3: Convert to a Classification Task<br><br></p>\n",
    "\n",
    "In the cell below, modify the function that takes three inputs: a dataframe, a column name C, and a threshold value X.\n",
    "The function has to create a new column called 'target' which is 1\n",
    "when given column C is > X, otherwise 0. Return a new dataframe with this new column, and keep all the \n",
    "previous columns."
   ]
  },
  {
   "cell_type": "code",
   "execution_count": 30,
   "metadata": {
    "nbgrader": {
     "grade": false,
     "grade_id": "c5552",
     "locked": false,
     "schema_version": 1,
     "solution": true
    }
   },
   "outputs": [],
   "source": [
    "# modify this cell\n",
    "\n",
    "def classification_task(df, C, X):\n",
    "    ### BEGIN SOLUTION\n",
    "    clean_data = df.copy()\n",
    "    clean_data['target'] = (clean_data[C] > X)*1\n",
    "    return clean_data\n",
    "    ### END SOLUTION"
   ]
  },
  {
   "cell_type": "code",
   "execution_count": 41,
   "metadata": {
    "nbgrader": {
     "grade": true,
     "grade_id": "ex152",
     "locked": true,
     "points": 1,
     "schema_version": 1,
     "solution": false
    }
   },
   "outputs": [],
   "source": [
    "\n",
    "# DO NOT MODIFY\n",
    "\n",
    "ans = 558\n",
    "\n",
    "try: \n",
    "    c = classification_task(df2, 'air_temp_9am', 65.0)\n",
    "    assert np.alltrue(c['target'].sum() == ans)\n",
    "except AssertionError as e: print(\"Try again, your solution did not produce the expected output above\")"
   ]
  },
  {
   "cell_type": "code",
   "execution_count": 42,
   "metadata": {},
   "outputs": [],
   "source": [
    "del c['number']"
   ]
  },
  {
   "cell_type": "code",
   "execution_count": 43,
   "metadata": {},
   "outputs": [],
   "source": [
    "def get_ready(df):\n",
    "    from sklearn.model_selection import train_test_split\n",
    "    # declare features to use\n",
    "    # use the 9am sensor signals to predict the 9am air temperature\n",
    "    features = ['air_pressure_9am','avg_wind_direction_9am','avg_wind_speed_9am','max_wind_direction_9am']\n",
    "    # create copy\n",
    "    df_copy = df.copy()\n",
    "    df_copy['target'] = (df_copy['air_temp_9am'] > 65.0)*1\n",
    "    # separate features from target\n",
    "    X=df_copy[features]\n",
    "    y=df_copy['target']\n",
    "    # perform split and return\n",
    "    return train_test_split(X, y, test_size=0.33, random_state=983)"
   ]
  },
  {
   "cell_type": "code",
   "execution_count": 44,
   "metadata": {},
   "outputs": [],
   "source": [
    "X_train, X_test, y_train, y_test = get_ready(pd.read_csv(weather_path).dropna())"
   ]
  },
  {
   "cell_type": "markdown",
   "metadata": {
    "nbgrader": {
     "grade": false,
     "grade_id": "cv445",
     "locked": true,
     "schema_version": 1,
     "solution": false
    }
   },
   "source": [
    "<p style=\"font-family: Arial; font-size:2.75vw;color:purple; font-style:bold\"><br>\n",
    "\n",
    "Exercise 4: Create a Classifier<br><br></p>\n",
    "\n",
    "In the cell below, modify the function to take X_train, y_train only and RETURN a classifier\n",
    "for predicting the y_train based on columns in X_train. You can pick any classifier model.\n",
    "\n",
    "The function should RETURN a trained model. We will test your classifier on X_test and y_test"
   ]
  },
  {
   "cell_type": "code",
   "execution_count": 56,
   "metadata": {
    "nbgrader": {
     "grade": false,
     "grade_id": "c5553",
     "locked": false,
     "schema_version": 1,
     "solution": true
    }
   },
   "outputs": [],
   "source": [
    "# modify this cell\n",
    "\n",
    "def train_classifier(X_train, y_train):\n",
    "    ### BEGIN SOLUTION\n",
    "    temperature_classifier = DecisionTreeClassifier(max_leaf_nodes=45, random_state=3)\n",
    "    temperature_classifier.fit(X_train, y_train)\n",
    "    return temperature_classifier\n",
    "    ### END SOLUTION"
   ]
  },
  {
   "cell_type": "code",
   "execution_count": 57,
   "metadata": {
    "nbgrader": {
     "grade": true,
     "grade_id": "ex153",
     "locked": true,
     "points": 1,
     "schema_version": 1,
     "solution": false
    }
   },
   "outputs": [
    {
     "name": "stdout",
     "output_type": "stream",
     "text": [
      "0.6363636363636364\n"
     ]
    }
   ],
   "source": [
    "# DO NOT MODIFY\n",
    "\n",
    "min_score = 0.63\n",
    "\n",
    "try: \n",
    "    v = train_classifier(X_train, y_train)\n",
    "    y_pred = v.predict(X_test)\n",
    "    print(accuracy_score(y_test, y_pred))\n",
    "    assert np.alltrue(accuracy_score(y_test, y_pred) > min_score)\n",
    "except AssertionError as e: print(\"Keep trying - can you get an accuracy_score > %f\" % min_score)"
   ]
  },
  {
   "cell_type": "code",
   "execution_count": 60,
   "metadata": {},
   "outputs": [
    {
     "data": {
      "text/plain": [
       "LinearRegression(copy_X=True, fit_intercept=True, n_jobs=None,\n",
       "         normalize=False)"
      ]
     },
     "execution_count": 60,
     "metadata": {},
     "output_type": "execute_result"
    }
   ],
   "source": [
    "# Lets try it again with a different model, like a regression model\n",
    "X_train, X_test, y_train, y_test = get_ready(pd.read_csv(weather_path).dropna())\n",
    "regressor = LinearRegression()\n",
    "regressor.fit(X_train,y_train)\n"
   ]
  },
  {
   "cell_type": "code",
   "execution_count": 63,
   "metadata": {},
   "outputs": [
    {
     "data": {
      "text/plain": [
       "array([ 0.46615388,  0.57847173,  0.68728384,  0.51966368,  0.48615424,\n",
       "        0.47485446, 19.94412973,  0.354388  ,  0.13548431,  0.45932973,\n",
       "        0.46321121,  0.04297255,  0.41060332,  0.25587705,  0.65101399,\n",
       "        0.56185222,  0.49563279,  0.58075645,  0.6330126 ,  0.43193377])"
      ]
     },
     "execution_count": 63,
     "metadata": {},
     "output_type": "execute_result"
    }
   ],
   "source": [
    "y_prediction = regressor.predict(X_test)\n",
    "y_prediction[:20]%20"
   ]
  },
  {
   "cell_type": "code",
   "execution_count": 64,
   "metadata": {},
   "outputs": [
    {
     "data": {
      "text/plain": [
       "count    352.000000\n",
       "mean       0.590909\n",
       "std        0.492366\n",
       "min        0.000000\n",
       "25%        0.000000\n",
       "50%        1.000000\n",
       "75%        1.000000\n",
       "max        1.000000\n",
       "Name: target, dtype: float64"
      ]
     },
     "execution_count": 64,
     "metadata": {},
     "output_type": "execute_result"
    }
   ],
   "source": [
    "y_test.describe()"
   ]
  },
  {
   "cell_type": "code",
   "execution_count": 68,
   "metadata": {},
   "outputs": [
    {
     "name": "stdout",
     "output_type": "stream",
     "text": [
      "0.4826991986559557\n"
     ]
    }
   ],
   "source": [
    "RMSE = sqrt(mean_squared_error(y_true = y_test, y_pred = y_prediction))\n",
    "print(RMSE)"
   ]
  },
  {
   "cell_type": "code",
   "execution_count": 69,
   "metadata": {},
   "outputs": [
    {
     "data": {
      "text/plain": [
       "array([ 0.46615388,  0.57847173,  0.68728384,  0.51966368,  0.48615424,\n",
       "        0.47485446, -0.05587027,  0.354388  ,  0.13548431,  0.45932973,\n",
       "        0.46321121,  0.04297255,  0.41060332,  0.25587705,  0.65101399,\n",
       "        0.56185222,  0.49563279,  0.58075645,  0.6330126 ,  0.43193377,\n",
       "        0.46487578,  0.36677358,  0.48374542,  0.62526081,  0.54166881,\n",
       "        0.56194202,  0.56445309,  0.5620413 ,  0.44434999,  0.66370137,\n",
       "        0.47257176,  0.5540992 ,  0.586924  ,  0.49611141,  0.62433763,\n",
       "        0.49485149,  0.67629367,  0.35741511,  0.33022921,  0.53453309,\n",
       "        0.12770079,  0.53108975,  0.68458056,  0.60008073,  0.56596215,\n",
       "        0.67015761,  0.65207003,  0.66797241,  0.57262911,  0.15576615,\n",
       "        0.42666212,  0.45454543,  0.43458598,  0.54822863,  0.57273664,\n",
       "        0.57845712,  0.70754532,  0.60667636,  0.49393397,  0.37061067,\n",
       "        0.59284115,  0.6075016 ,  0.59080294,  0.52859403,  0.49998573,\n",
       "        0.47075324,  0.6483956 ,  0.40531934,  0.44853561,  0.54268994,\n",
       "        0.25443842,  0.50792103,  0.63812564,  0.72707994,  0.68002175,\n",
       "        0.55218156,  0.60808123,  0.47469471,  0.62351472,  0.57514448,\n",
       "        0.58311111,  0.52979914,  0.56246612,  0.38285214,  0.08800143,\n",
       "        0.55371636,  0.64026042,  0.71179471,  0.76382198,  0.53442206,\n",
       "        0.56039754,  0.63291482,  0.63182796,  0.57389897,  0.53075968,\n",
       "        0.65334   ,  0.45568235,  0.46721835,  0.3068538 ,  0.54775232,\n",
       "        0.49051608,  0.57606528,  0.4833907 ,  0.41715319,  0.59703345,\n",
       "        0.44812971,  0.64367756,  0.47350913,  0.61450284,  0.5164273 ,\n",
       "        0.49737346,  0.4625124 ,  0.60067105,  0.33662321,  0.05331735,\n",
       "        0.50208224,  0.26249849,  0.43596732,  0.45717152,  0.58843907,\n",
       "        0.24480537,  0.42857372,  0.20812478,  0.64270339,  0.44858132,\n",
       "        0.56013461,  0.35401905,  0.28223951,  0.53586255,  0.62649489,\n",
       "        0.60446361,  0.55480811,  0.51212096,  0.58154194,  0.54240406,\n",
       "        0.5941995 ,  0.54635816,  0.51386435,  0.61057395,  0.4713762 ,\n",
       "        0.5066054 ,  0.58443679,  0.37444122,  0.45648177,  0.62901605,\n",
       "        0.6088746 ,  0.54022118,  0.62183516,  0.47237472,  0.60399169,\n",
       "        0.64626396,  0.45708174,  0.5914679 ,  0.68076334,  0.54608809,\n",
       "        0.62566671,  0.14923523,  0.36709547,  0.69321193,  0.61906702,\n",
       "        0.10023273,  0.60714592,  0.56262893,  0.56298621,  0.57679868,\n",
       "        0.47489955,  0.4530423 ,  0.4691407 ,  0.43227922,  0.58994057,\n",
       "        0.45674516,  0.34350051,  0.58146311,  0.57309852,  0.59718663,\n",
       "        0.42981196,  0.51714394,  0.54290388,  0.51399662,  0.47724005,\n",
       "        0.62873328,  0.60131209,  0.66372053,  0.39825658,  0.64361022,\n",
       "        0.53388571,  0.40253399,  0.27981932,  0.46887372,  0.35251344,\n",
       "        0.51733691,  0.58093246,  0.6343763 ,  0.46573555,  0.51323997,\n",
       "        0.60254625,  0.43804369,  0.21498079,  0.46103455,  0.61447786,\n",
       "        0.32376471,  0.38243849,  0.43752395,  0.41591497,  0.50101358,\n",
       "        0.44894339,  0.4116058 ,  0.3710035 ,  0.54917784,  0.35296586,\n",
       "        0.5070666 ,  0.1085761 ,  0.61993479,  0.58527314,  0.75264748,\n",
       "        0.362917  ,  0.63128911,  0.65067374,  0.41454377,  0.55916403,\n",
       "        0.46675341,  0.41057267,  0.59272098,  0.25736387,  0.50001521,\n",
       "        0.59821516,  0.40226151,  0.1520772 ,  0.61368974,  0.51442558,\n",
       "        0.44608477,  0.56013272,  0.72415129,  0.53063421,  0.46188522,\n",
       "        0.53353986,  0.24689639,  0.61620005,  0.55301299,  0.5395874 ,\n",
       "        0.57017168,  0.36920951,  0.64300724,  0.61517672,  0.4170759 ,\n",
       "        0.62285131,  0.54714552,  0.3188576 ,  0.54639257,  0.13794134,\n",
       "        0.72746181,  0.09199824,  0.62812718,  0.46966409,  0.49772746,\n",
       "        0.64377926,  0.68260677,  0.46041232,  0.42884686,  0.51640056,\n",
       "        0.70522564,  0.47481907,  0.65308627,  0.46663322,  0.58263882,\n",
       "        0.58936753,  0.52094361,  0.51973034,  0.4622237 ,  0.63499747,\n",
       "        0.44438443,  0.69297676,  0.48030139,  0.64435953,  0.74065005,\n",
       "        0.55875442,  0.46190525,  0.59283342,  0.575851  ,  0.55904287,\n",
       "        0.54901466,  0.63972582,  0.52945016,  0.5860345 ,  0.61843207,\n",
       "        0.40641504,  0.43620806,  0.20235909,  0.3510995 ,  0.60027845,\n",
       "        0.37609451,  0.45540575,  0.46132914,  0.55574589,  0.61462282,\n",
       "        0.37460884,  0.64398896,  0.54158529,  0.55053257,  0.61834384,\n",
       "        0.05038513,  0.48198944,  0.62612889,  0.52232895,  0.67944505,\n",
       "        0.64029978,  0.5048393 ,  0.66575543,  0.35238633,  0.39668281,\n",
       "        0.45133394,  0.51682191,  0.56128675,  0.44632165,  0.54935237,\n",
       "        0.18870564,  0.46680675,  0.57131174,  0.43211394,  0.2437418 ,\n",
       "        0.39019733,  0.45294781,  0.54578966,  0.57700641,  0.37850941,\n",
       "        0.69183602,  0.59898336,  0.49242221,  0.63965104,  0.71604742,\n",
       "        0.5884117 ,  0.25531085,  0.25209487,  0.45295879,  0.34151748,\n",
       "        0.44654411,  0.64816314,  0.20487501,  0.60197951,  0.40717268,\n",
       "        0.57540923,  0.55595056,  0.52096947,  0.5266737 ,  0.58679934,\n",
       "        0.31859979,  0.55122457,  0.2375269 ,  0.48841545,  0.65073866,\n",
       "        0.53351103,  0.59261241])"
      ]
     },
     "execution_count": 69,
     "metadata": {},
     "output_type": "execute_result"
    }
   ],
   "source": []
  },
  {
   "cell_type": "code",
   "execution_count": 72,
   "metadata": {},
   "outputs": [],
   "source": []
  },
  {
   "cell_type": "code",
   "execution_count": 73,
   "metadata": {},
   "outputs": [
    {
     "data": {
      "text/plain": [
       "0.4826991986559557"
      ]
     },
     "execution_count": 73,
     "metadata": {},
     "output_type": "execute_result"
    }
   ],
   "source": []
  },
  {
   "cell_type": "code",
   "execution_count": null,
   "metadata": {},
   "outputs": [],
   "source": []
  }
 ],
 "metadata": {
  "celltoolbar": "Create Assignment",
  "kernelspec": {
   "display_name": "Python 3",
   "language": "python",
   "name": "python3"
  },
  "language_info": {
   "codemirror_mode": {
    "name": "ipython",
    "version": 3
   },
   "file_extension": ".py",
   "mimetype": "text/x-python",
   "name": "python",
   "nbconvert_exporter": "python",
   "pygments_lexer": "ipython3",
   "version": "3.6.6"
  }
 },
 "nbformat": 4,
 "nbformat_minor": 2
}
