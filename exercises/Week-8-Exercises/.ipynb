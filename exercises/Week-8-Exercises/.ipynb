{
 "cells": [
  {
   "cell_type": "markdown",
   "metadata": {},
   "source": [
    "# Exercise Notebook on Natural Language Processing"
   ]
  },
  {
   "cell_type": "markdown",
   "metadata": {},
   "source": [
    "`nltk` also provides access to a dataset of tweets from Twitter, it includes a set of tweets already classified as negative or positive.\n",
    "\n",
    "In this exercise notebook we would like to replicate the sentiment analysis classification performed on the movie reviews corpus on this dataset."
   ]
  },
  {
   "cell_type": "markdown",
   "metadata": {},
   "source": [
    "## Exercise 1: Download and inspect the twitter_samples dataset\n",
    "\n",
    "First we want to download the dataset and inspect it:"
   ]
  },
  {
   "cell_type": "code",
   "execution_count": 1,
   "metadata": {},
   "outputs": [],
   "source": [
    "import nltk"
   ]
  },
  {
   "cell_type": "code",
   "execution_count": 2,
   "metadata": {},
   "outputs": [
    {
     "name": "stderr",
     "output_type": "stream",
     "text": [
      "[nltk_data] Downloading package twitter_samples to\n",
      "[nltk_data]     /Users/smd/nltk_data...\n",
      "[nltk_data]   Unzipping corpora/twitter_samples.zip.\n"
     ]
    }
   ],
   "source": [
    "# DO NOT MODIFY\n",
    "\n",
    "nltk.download(\"twitter_samples\")\n",
    "from nltk.corpus import twitter_samples"
   ]
  },
  {
   "cell_type": "markdown",
   "metadata": {},
   "source": [
    "First let's check the common `fileids` method of `nltk` corpora:"
   ]
  },
  {
   "cell_type": "code",
   "execution_count": 3,
   "metadata": {},
   "outputs": [
    {
     "data": {
      "text/plain": [
       "['negative_tweets.json', 'positive_tweets.json', 'tweets.20150430-223406.json']"
      ]
     },
     "execution_count": 3,
     "metadata": {},
     "output_type": "execute_result"
    }
   ],
   "source": [
    "twitter_samples.fileids()"
   ]
  },
  {
   "cell_type": "markdown",
   "metadata": {},
   "source": [
    "The twitter_samples object has a `tokenized()` method that returns all tweets from a fileid already individually tokenized. Read its documentation and use it to find the number of positive and negative tweets."
   ]
  },
  {
   "cell_type": "code",
   "execution_count": 15,
   "metadata": {
    "nbgrader": {
     "grade": false,
     "grade_id": "number_of_positive_tweets",
     "locked": false,
     "schema_version": 1,
     "solution": true
    }
   },
   "outputs": [
    {
     "data": {
      "text/plain": [
       "5000"
      ]
     },
     "execution_count": 15,
     "metadata": {},
     "output_type": "execute_result"
    }
   ],
   "source": [
    "number_of_positive_tweets = None\n",
    "### BEGIN SOLUTION\n",
    "number_of_positive_tweets = len(twitter_samples.tokenized('positive_tweets.json'))\n",
    "number_of_positive_tweets\n",
    "### END SOLUTION"
   ]
  },
  {
   "cell_type": "code",
   "execution_count": 16,
   "metadata": {
    "nbgrader": {
     "grade": false,
     "grade_id": "number_of_negative_tweets",
     "locked": false,
     "schema_version": 1,
     "solution": true
    }
   },
   "outputs": [
    {
     "data": {
      "text/plain": [
       "5000"
      ]
     },
     "execution_count": 16,
     "metadata": {},
     "output_type": "execute_result"
    }
   ],
   "source": [
    "number_of_negative_tweets = None\n",
    "### BEGIN SOLUTION\n",
    "number_of_negative_tweets = len(twitter_samples.tokenized('negative_tweets.json'))\n",
    "number_of_negative_tweets\n",
    "### END SOLUTION"
   ]
  },
  {
   "cell_type": "code",
   "execution_count": 17,
   "metadata": {},
   "outputs": [],
   "source": [
    "# DO NOT MODIFY\n",
    "\n",
    "assert number_of_positive_tweets == 5000, \"Make sure you are counting the number of tweets, not the number of words\""
   ]
  },
  {
   "cell_type": "markdown",
   "metadata": {},
   "source": [
    "## Exercise 2: Build a bag-of-words model function\n",
    "\n",
    "As in the lecture, we can build a bag-of-words model to train our machine learning algorithm."
   ]
  },
  {
   "cell_type": "code",
   "execution_count": 19,
   "metadata": {},
   "outputs": [],
   "source": [
    "import string"
   ]
  },
  {
   "cell_type": "markdown",
   "metadata": {},
   "source": [
    "First step we define a list of words that we want to filter out of our dataset:"
   ]
  },
  {
   "cell_type": "code",
   "execution_count": 25,
   "metadata": {},
   "outputs": [],
   "source": [
    "useless_words = nltk.corpus.stopwords.words(\"english\") + list(string.punctuation)"
   ]
  },
  {
   "cell_type": "code",
   "execution_count": 84,
   "metadata": {
    "nbgrader": {
     "grade": false,
     "grade_id": "build_bag_of_words_features_filtered",
     "locked": false,
     "schema_version": 1,
     "solution": true
    }
   },
   "outputs": [],
   "source": [
    "test_words = ['name','age','testable','new']\n",
    "\n",
    "def build_bag_of_words_features_filtered(words):\n",
    "    \"\"\"Build a bag of words model\"\"\"\n",
    "    ### BEGIN SOLUTION\n",
    "    bag = {word:True for word in words if word not in useless_words}\n",
    "    return bag\n",
    "    ### END SOLUTION"
   ]
  },
  {
   "cell_type": "code",
   "execution_count": 30,
   "metadata": {},
   "outputs": [
    {
     "name": "stdout",
     "output_type": "stream",
     "text": [
      "0\n"
     ]
    }
   ],
   "source": [
    "assert len(build_bag_of_words_features_filtered([\"what\", \"the\", \"?\", \",\"]))==0, \"Make sure we are filtering out both stopwords and punctuation\""
   ]
  },
  {
   "cell_type": "markdown",
   "metadata": {},
   "source": [
    "## Exercise 3: create a list of all words\n",
    "\n",
    "Before performing sentiment analysis, let's first inspect the dataset a little bit more by creating a list of all words."
   ]
  },
  {
   "cell_type": "code",
   "execution_count": 31,
   "metadata": {},
   "outputs": [],
   "source": [
    "# create a list of all the words from each data set, and append them to a master list of words\n",
    "words = []\n",
    "for dataset in [\"positive_tweets.json\", \"negative_tweets.json\"]:\n",
    "    for tweet in twitter_samples.tokenized(dataset):\n",
    "        words.extend(tweet)"
   ]
  },
  {
   "cell_type": "code",
   "execution_count": 50,
   "metadata": {},
   "outputs": [
    {
     "name": "stdout",
     "output_type": "stream",
     "text": [
      "[1, 2, 3, 4, 5, 6, 7, 8, 9]\n",
      "[1, 3, 4, 5, 6, 7, 8, 9]\n"
     ]
    }
   ],
   "source": [
    "L1 = [1,2,3,4]\n",
    "L2 = [5,6,7,8,9]\n",
    "L1.extend(L2)\n",
    "print(L1)\n",
    "del L1[1]\n",
    "print(L1)"
   ]
  },
  {
   "cell_type": "markdown",
   "metadata": {},
   "source": [
    "Study the code above, see that it is a case of nested loop, for each dataset we are looping through each tweet. Also notice we are using `extend`, how does it differ from `append`? Try it on a simple case, or read the documentation or Google for it!\n",
    "\n",
    "Now let's filter out punctuation and stopwords:"
   ]
  },
  {
   "cell_type": "code",
   "execution_count": 70,
   "metadata": {
    "nbgrader": {
     "grade": false,
     "grade_id": "filtered_words",
     "locked": false,
     "schema_version": 1,
     "solution": true
    }
   },
   "outputs": [
    {
     "name": "stdout",
     "output_type": "stream",
     "text": [
      "84672\n"
     ]
    }
   ],
   "source": [
    "filtered_words = []\n",
    "### BEGIN SOLUTION\n",
    "filtered_words = [w for w in words if w not in useless_words]\n",
    "print(len(filtered_words))\n",
    "### END SOLUTION"
   ]
  },
  {
   "cell_type": "markdown",
   "metadata": {},
   "source": [
    "First we want to filter out `useless_words` as defined in the previous section, this will reduce the lenght of the dataset by more than a factor of 2:"
   ]
  },
  {
   "cell_type": "code",
   "execution_count": 71,
   "metadata": {},
   "outputs": [],
   "source": [
    "# DO NOT MODIFY \n",
    "\n",
    "assert len(filtered_words) == 84672, \"Make sure that the filtering is applied correctly\""
   ]
  },
  {
   "cell_type": "markdown",
   "metadata": {},
   "source": [
    "## Exercise 4: find the most common words\n"
   ]
  },
  {
   "cell_type": "markdown",
   "metadata": {},
   "source": [
    "The `collection` package of the standard library contains a `Counter` class that is handy for counting frequencies of words in our list:"
   ]
  },
  {
   "cell_type": "code",
   "execution_count": 72,
   "metadata": {},
   "outputs": [],
   "source": [
    "# DO NOT MODIFY \n",
    "\n",
    "from collections import Counter\n",
    "\n",
    "counter = Counter(filtered_words)"
   ]
  },
  {
   "cell_type": "markdown",
   "metadata": {},
   "source": [
    "It also has a `most_common()` method to access the words with the higher count:"
   ]
  },
  {
   "cell_type": "code",
   "execution_count": 75,
   "metadata": {
    "nbgrader": {
     "grade": false,
     "grade_id": "most_common_words",
     "locked": false,
     "schema_version": 1,
     "solution": true
    }
   },
   "outputs": [
    {
     "name": "stdout",
     "output_type": "stream",
     "text": [
      "[(':(', 4586), (':)', 3693), ('I', 2477), (':-)', 701), (':D', 658), ('...', 622), (':-(', 501), (\"I'm\", 456), ('like', 402), ('u', 392)]\n"
     ]
    }
   ],
   "source": [
    "most_common_words = None\n",
    "### BEGIN SOLUTION\n",
    "most_common_words = counter.most_common()[:10]\n",
    "print(most_common_words)\n",
    "### END SOLUTION"
   ]
  },
  {
   "cell_type": "code",
   "execution_count": 76,
   "metadata": {},
   "outputs": [],
   "source": [
    "assert most_common_words[0][0] == \":(\", \"The most common word should be :(\"\n",
    "assert len(most_common_words) == 10, \"Make sure you are only getting the first 10\""
   ]
  },
  {
   "cell_type": "markdown",
   "metadata": {},
   "source": [
    "## Exercise 5: Build the features for machine learning\n",
    "\n",
    "Using our `build_bag_of_words_features` function we can build separately the negative and positive features.\n",
    "\n",
    "The format of the positive features should be:\n",
    "\n",
    "    [\n",
    "        ( { \"here\":1, \"some\":1, \"words\":1 }, \"pos\" ),\n",
    "        ( { \"another\":1, \"tweet\":1}, \"pos\" )\n",
    "    ]\n",
    "    \n",
    "It is a list of tuples, the first element is a dictionary of the words with 1 if that word appears, the second the \"pos\" or \"neg\" string."
   ]
  },
  {
   "cell_type": "code",
   "execution_count": 85,
   "metadata": {
    "nbgrader": {
     "grade": false,
     "grade_id": "negative_features",
     "locked": false,
     "schema_version": 1,
     "solution": true
    }
   },
   "outputs": [],
   "source": [
    "negative_features = None\n",
    "### BEGIN SOLUTION\n",
    "negative_features = [(build_bag_of_words_features_filtered(tweet), 'neg')\\\n",
    "                     for tweet in twitter_samples.tokenized('negative_tweets.json')]\n",
    "### END SOLUTION"
   ]
  },
  {
   "cell_type": "code",
   "execution_count": 86,
   "metadata": {
    "nbgrader": {
     "grade": false,
     "grade_id": "positive_features",
     "locked": false,
     "schema_version": 1,
     "solution": true
    }
   },
   "outputs": [],
   "source": [
    "positive_features = None\n",
    "### BEGIN SOLUTION\n",
    "positive_features = [(build_bag_of_words_features_filtered(tweet), 'pos')\\\n",
    "                    for tweet in twitter_samples.tokenized('positive_tweets.json')]\n",
    "### END SOLUTION"
   ]
  },
  {
   "cell_type": "code",
   "execution_count": 87,
   "metadata": {},
   "outputs": [
    {
     "data": {
      "text/plain": [
       "{'#FollowFriday': True,\n",
       " '@France_Inte': True,\n",
       " '@PKuchly57': True,\n",
       " '@Milipol_Paris': True,\n",
       " 'top': True,\n",
       " 'engaged': True,\n",
       " 'members': True,\n",
       " 'community': True,\n",
       " 'week': True,\n",
       " ':)': True}"
      ]
     },
     "execution_count": 87,
     "metadata": {},
     "output_type": "execute_result"
    }
   ],
   "source": [
    "positive_features[0][0]"
   ]
  },
  {
   "cell_type": "code",
   "execution_count": 88,
   "metadata": {},
   "outputs": [],
   "source": [
    "assert positive_features[0][1] == \"pos\", \"Make sure the feature is a list of tuples whose second element is pos or neg\"\n",
    "assert positive_features[0][0][\"engaged\"] == 1, \"Make sure that the first element of each tuple is a dictionary of words\""
   ]
  },
  {
   "cell_type": "markdown",
   "metadata": {},
   "source": [
    "## Exercise 6: Train a NaiveBayesClassifier"
   ]
  },
  {
   "cell_type": "code",
   "execution_count": 89,
   "metadata": {},
   "outputs": [],
   "source": [
    "from nltk.classify import NaiveBayesClassifier"
   ]
  },
  {
   "cell_type": "markdown",
   "metadata": {},
   "source": [
    "Let's use 80% of the data for training, the rest for validation:"
   ]
  },
  {
   "cell_type": "code",
   "execution_count": 90,
   "metadata": {},
   "outputs": [],
   "source": [
    "split = int(len(positive_features) * 0.8)"
   ]
  },
  {
   "cell_type": "code",
   "execution_count": 91,
   "metadata": {},
   "outputs": [
    {
     "data": {
      "text/plain": [
       "4000"
      ]
     },
     "execution_count": 91,
     "metadata": {},
     "output_type": "execute_result"
    }
   ],
   "source": [
    "split"
   ]
  },
  {
   "cell_type": "code",
   "execution_count": 92,
   "metadata": {},
   "outputs": [],
   "source": [
    "classifier = NaiveBayesClassifier.train(positive_features[:split]+negative_features[:split])"
   ]
  },
  {
   "cell_type": "markdown",
   "metadata": {},
   "source": [
    "Let's check the accuracy on the training and on the test sets, make sure to turn those into a percent value"
   ]
  },
  {
   "cell_type": "code",
   "execution_count": 94,
   "metadata": {
    "nbgrader": {
     "grade": false,
     "grade_id": "training_accuracy",
     "locked": false,
     "schema_version": 1,
     "solution": true
    }
   },
   "outputs": [
    {
     "data": {
      "text/plain": [
       "0.999625"
      ]
     },
     "execution_count": 94,
     "metadata": {},
     "output_type": "execute_result"
    }
   ],
   "source": [
    "training_accuracy = None\n",
    "### BEGIN SOLUTION\n",
    "nltk.classify.util.accuracy(classifier, positive_features[:split] + negative_features[:split])\n",
    "### END SOLUTION"
   ]
  },
  {
   "cell_type": "code",
   "execution_count": 96,
   "metadata": {
    "nbgrader": {
     "grade": false,
     "grade_id": "test_accuracy",
     "locked": false,
     "schema_version": 1,
     "solution": true
    }
   },
   "outputs": [
    {
     "data": {
      "text/plain": [
       "0.9982"
      ]
     },
     "execution_count": 96,
     "metadata": {},
     "output_type": "execute_result"
    }
   ],
   "source": [
    "test_accuracy = None\n",
    "### BEGIN SOLUTION\n",
    "nltk.classify.util.accuracy(classifier, positive_features[split:]+negative_features[:split])\n",
    "### END SOLUTION"
   ]
  },
  {
   "cell_type": "markdown",
   "metadata": {},
   "source": [
    "It looks like the accuracy for the test is very high compared to the movie review dataset, check the most informative features below to understand why:"
   ]
  },
  {
   "cell_type": "code",
   "execution_count": 97,
   "metadata": {},
   "outputs": [
    {
     "name": "stdout",
     "output_type": "stream",
     "text": [
      "Most Informative Features\n",
      "                      :( = True              neg : pos    =   2362.3 : 1.0\n",
      "                      :) = True              pos : neg    =   1139.0 : 1.0\n",
      "                     See = True              pos : neg    =     37.7 : 1.0\n",
      "                     TOO = True              neg : pos    =     36.3 : 1.0\n",
      "                  THANKS = True              neg : pos    =     35.0 : 1.0\n",
      "                    THAT = True              neg : pos    =     27.7 : 1.0\n",
      "                    miss = True              neg : pos    =     26.4 : 1.0\n",
      "                     sad = True              neg : pos    =     25.0 : 1.0\n",
      "                     x15 = True              neg : pos    =     23.7 : 1.0\n",
      "                   Thank = True              pos : neg    =     22.3 : 1.0\n"
     ]
    }
   ],
   "source": [
    "classifier.show_most_informative_features()"
   ]
  },
  {
   "cell_type": "code",
   "execution_count": null,
   "metadata": {},
   "outputs": [],
   "source": []
  }
 ],
 "metadata": {
  "anaconda-cloud": {},
  "celltoolbar": "Create Assignment",
  "kernelspec": {
   "display_name": "Python 3",
   "language": "python",
   "name": "python3"
  },
  "language_info": {
   "codemirror_mode": {
    "name": "ipython",
    "version": 3
   },
   "file_extension": ".py",
   "mimetype": "text/x-python",
   "name": "python",
   "nbconvert_exporter": "python",
   "pygments_lexer": "ipython3",
   "version": "3.6.6"
  }
 },
 "nbformat": 4,
 "nbformat_minor": 1
}
